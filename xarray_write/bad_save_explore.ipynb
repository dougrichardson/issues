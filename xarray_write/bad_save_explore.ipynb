{
 "cells": [
  {
   "cell_type": "code",
   "execution_count": 1,
   "id": "05ead407-e967-43b9-96e0-ca8e21bf240e",
   "metadata": {},
   "outputs": [],
   "source": [
    "from dask_jobqueue import PBSCluster\n",
    "from dask.distributed import Client"
   ]
  },
  {
   "cell_type": "code",
   "execution_count": 2,
   "id": "e1fd15f5-13a0-409b-97e0-7c52e8f46702",
   "metadata": {},
   "outputs": [],
   "source": [
    "# One node on Gadi has 48 cores - try and use up a full core before going to multiple nodes (jobs)\n",
    "\n",
    "walltime = '01:00:00'\n",
    "cores = 2\n",
    "memory = '8GB'\n",
    "\n",
    "cluster = PBSCluster(walltime=str(walltime), cores=cores, memory=str(memory),\n",
    "                     job_extra=['-l ncpus='+str(cores),\n",
    "                                '-l mem='+str(memory),\n",
    "                                '-P xv83',\n",
    "                                '-l storage=gdata/xv83+gdata/rt52+scratch/xv83'],\n",
    "                     header_skip=[\"select\"])"
   ]
  },
  {
   "cell_type": "code",
   "execution_count": 3,
   "id": "78856405-a3a0-488e-986b-cde407edca81",
   "metadata": {},
   "outputs": [],
   "source": [
    "cluster.scale(jobs=1)\n",
    "client = Client(cluster)"
   ]
  },
  {
   "cell_type": "code",
   "execution_count": 4,
   "id": "d1022997-f0c0-458d-b975-20751eb8dc11",
   "metadata": {},
   "outputs": [
    {
     "data": {
      "text/html": [
       "<table style=\"border: 2px solid white;\">\n",
       "<tr>\n",
       "<td style=\"vertical-align: top; border: 0px solid white\">\n",
       "<h3 style=\"text-align: left;\">Client</h3>\n",
       "<ul style=\"text-align: left; list-style: none; margin: 0; padding: 0;\">\n",
       "  <li><b>Scheduler: </b>tcp://10.6.55.27:46849</li>\n",
       "  <li><b>Dashboard: </b><a href='http://10.6.55.27:8787/status' target='_blank'>http://10.6.55.27:8787/status</a></li>\n",
       "</ul>\n",
       "</td>\n",
       "<td style=\"vertical-align: top; border: 0px solid white\">\n",
       "<h3 style=\"text-align: left;\">Cluster</h3>\n",
       "<ul style=\"text-align: left; list-style:none; margin: 0; padding: 0;\">\n",
       "  <li><b>Workers: </b>0</li>\n",
       "  <li><b>Cores: </b>0</li>\n",
       "  <li><b>Memory: </b>0 B</li>\n",
       "</ul>\n",
       "</td>\n",
       "</tr>\n",
       "</table>"
      ],
      "text/plain": [
       "<Client: 'tcp://10.6.55.27:46849' processes=0 threads=0, memory=0 B>"
      ]
     },
     "execution_count": 4,
     "metadata": {},
     "output_type": "execute_result"
    }
   ],
   "source": [
    "client"
   ]
  },
  {
   "cell_type": "code",
   "execution_count": 5,
   "id": "13a8c2d6-7db5-4fa9-a40e-a781725524d5",
   "metadata": {},
   "outputs": [],
   "source": [
    "# client.close()\n",
    "# cluster.close()"
   ]
  },
  {
   "cell_type": "code",
   "execution_count": 1,
   "id": "dc67b52d-dd5b-4188-bcfa-a58d2d5e99d3",
   "metadata": {},
   "outputs": [],
   "source": [
    "import xarray as xr\n",
    "import matplotlib.pyplot as plt\n",
    "import functions as fn"
   ]
  },
  {
   "cell_type": "markdown",
   "id": "16aec95f-aa60-41a9-a2f9-7493b388b6c6",
   "metadata": {},
   "source": [
    "### Try loading individual nc files and concat"
   ]
  },
  {
   "cell_type": "code",
   "execution_count": 125,
   "id": "faa0d709-e4b5-4eea-b873-f0cb5ad531bc",
   "metadata": {},
   "outputs": [
    {
     "data": {
      "text/plain": [
       "{'zlib': True,\n",
       " 'shuffle': True,\n",
       " 'complevel': 5,\n",
       " 'fletcher32': False,\n",
       " 'contiguous': False,\n",
       " 'chunksizes': (1, 721, 1440),\n",
       " 'source': '/g/data/xv83/dr6273/work/richardson_scratch/issues/xarray_write/2t_era5_moda_sfc_20190201-20190228.nc',\n",
       " 'original_shape': (1, 721, 1440),\n",
       " 'dtype': dtype('int16'),\n",
       " 'missing_value': -32767,\n",
       " '_FillValue': -32767,\n",
       " 'scale_factor': 0.0012360781018723392,\n",
       " 'add_offset': 269.4665145293084}"
      ]
     },
     "execution_count": 125,
     "metadata": {},
     "output_type": "execute_result"
    }
   ],
   "source": [
    "f = xr.open_dataset('/g/data/xv83/dr6273/work/richardson_scratch/issues/xarray_write/2t_era5_moda_sfc_20190201-20190228.nc')\n",
    "f.t2m.encoding"
   ]
  },
  {
   "cell_type": "code",
   "execution_count": 126,
   "id": "5acb92f8-b304-45f8-8dc5-e4cc37e809c1",
   "metadata": {},
   "outputs": [
    {
     "data": {
      "text/plain": [
       "{'zlib': True,\n",
       " 'shuffle': True,\n",
       " 'complevel': 5,\n",
       " 'fletcher32': False,\n",
       " 'contiguous': False,\n",
       " 'chunksizes': (1, 721, 1440),\n",
       " 'source': '/g/data/xv83/dr6273/work/richardson_scratch/issues/xarray_write/2t_era5_moda_sfc_20190501-20190531.nc',\n",
       " 'original_shape': (1, 721, 1440),\n",
       " 'dtype': dtype('int16'),\n",
       " 'missing_value': -32767,\n",
       " '_FillValue': -32767,\n",
       " 'scale_factor': 0.0016177143099659714,\n",
       " 'add_offset': 258.7720640676497}"
      ]
     },
     "execution_count": 126,
     "metadata": {},
     "output_type": "execute_result"
    }
   ],
   "source": [
    "m = xr.open_dataset('/g/data/xv83/dr6273/work/richardson_scratch/issues/xarray_write/2t_era5_moda_sfc_20190501-20190531.nc')\n",
    "m.t2m.encoding"
   ]
  },
  {
   "cell_type": "code",
   "execution_count": 193,
   "id": "b8b2a402-b2aa-4e34-9567-303b6bd34116",
   "metadata": {},
   "outputs": [],
   "source": [
    "ds = xr.concat([f, m], 'time', combine_attrs='drop')"
   ]
  },
  {
   "cell_type": "code",
   "execution_count": 194,
   "id": "f632b658-bfa8-4aa5-a8b7-2ea86d359635",
   "metadata": {},
   "outputs": [
    {
     "data": {
      "image/png": "[encoded data removed]",
      "text/plain": [
       "<Figure size 432x288 with 2 Axes>"
      ]
     },
     "metadata": {
      "needs_background": "light"
     },
     "output_type": "display_data"
    }
   ],
   "source": [
    "ds = ds.sel(latitude=slice(21,19), longitude=slice(79,80))\n",
    "ds.t2m.sel(time='2019-05').plot()\n",
    "ds.close()\n",
    "ds.to_netcdf('./test.nc', mode='w')\n",
    "ds.close()"
   ]
  },
  {
   "cell_type": "code",
   "execution_count": 195,
   "id": "8a6f1dc8-d863-4009-a52a-f816a826e617",
   "metadata": {},
   "outputs": [
    {
     "data": {
      "image/png": "[encoded data removed]",
      "text/plain": [
       "<Figure size 432x288 with 2 Axes>"
      ]
     },
     "metadata": {
      "needs_background": "light"
     },
     "output_type": "display_data"
    }
   ],
   "source": [
    "ds2 = xr.open_dataset('./test.nc')\n",
    "ds2.t2m.sel(time='2019-05-01').plot()\n",
    "ds2.close()"
   ]
  },
  {
   "cell_type": "markdown",
   "id": "ef8a5e33-e790-47f6-9e5f-dd3ec9b23e7a",
   "metadata": {},
   "source": [
    "### With encoding"
   ]
  },
  {
   "cell_type": "code",
   "execution_count": 151,
   "id": "c09ccef7-458e-4dfc-b546-aeb46b5c0f3b",
   "metadata": {},
   "outputs": [
    {
     "data": {
      "image/png": "[encoded data removed]",
      "text/plain": [
       "<Figure size 432x288 with 2 Axes>"
      ]
     },
     "metadata": {
      "needs_background": "light"
     },
     "output_type": "display_data"
    }
   ],
   "source": [
    "ds.to_netcdf('./test_encoding.nc', mode='w', encoding={'t2m': {'dtype': 'float32'}})\n",
    "ds3 = xr.open_dataset('./test_encoding.nc')\n",
    "ds3.t2m.sel(time='2019-05-01').plot()\n",
    "ds3.close()"
   ]
  },
  {
   "cell_type": "markdown",
   "id": "a78dbb17-95b6-4c6d-8b31-272ccad02907",
   "metadata": {},
   "source": [
    "### Open encoded file, write without encoding and reopen"
   ]
  },
  {
   "cell_type": "code",
   "execution_count": 132,
   "id": "66851d42-fd70-4923-85ed-c541cd236789",
   "metadata": {},
   "outputs": [
    {
     "data": {
      "image/png": "[encoded data removed]",
      "text/plain": [
       "<Figure size 432x288 with 2 Axes>"
      ]
     },
     "metadata": {
      "needs_background": "light"
     },
     "output_type": "display_data"
    }
   ],
   "source": [
    "ds4 = xr.open_dataset('./test_encoding.nc')\n",
    "ds4.to_netcdf('./test_encoding2.nc', mode='w')\n",
    "ds4.close()\n",
    "ds5 = xr.open_dataset('./test_encoding2.nc')\n",
    "ds5.t2m.sel(time='2019-05-01').plot()\n",
    "ds5.close()"
   ]
  },
  {
   "cell_type": "code",
   "execution_count": 120,
   "id": "325dcc0c-f686-4444-af7f-58d9506c0780",
   "metadata": {},
   "outputs": [
    {
     "data": {
      "text/plain": [
       "{'zlib': True,\n",
       " 'shuffle': True,\n",
       " 'complevel': 5,\n",
       " 'fletcher32': False,\n",
       " 'contiguous': False,\n",
       " 'chunksizes': (1, 721, 1440),\n",
       " 'source': '/g/data/rt52/era5/single-levels/monthly-averaged/2t/2019/2t_era5_moda_sfc_20190201-20190228.nc',\n",
       " 'original_shape': (1, 721, 1440),\n",
       " 'dtype': dtype('int16'),\n",
       " 'missing_value': -32767,\n",
       " '_FillValue': -32767,\n",
       " 'scale_factor': 0.0012360781018723392,\n",
       " 'add_offset': 269.4665145293084}"
      ]
     },
     "execution_count": 120,
     "metadata": {},
     "output_type": "execute_result"
    }
   ],
   "source": [
    "f.encoding"
   ]
  },
  {
   "cell_type": "code",
   "execution_count": 121,
   "id": "2ca20f5c-2f55-43d0-875f-f80c821ceeba",
   "metadata": {},
   "outputs": [
    {
     "data": {
      "text/plain": [
       "{'zlib': True,\n",
       " 'shuffle': True,\n",
       " 'complevel': 5,\n",
       " 'fletcher32': False,\n",
       " 'contiguous': False,\n",
       " 'chunksizes': (1, 721, 1440),\n",
       " 'source': '/g/data/rt52/era5/single-levels/monthly-averaged/2t/2019/2t_era5_moda_sfc_20190501-20190531.nc',\n",
       " 'original_shape': (1, 721, 1440),\n",
       " 'dtype': dtype('int16'),\n",
       " 'missing_value': -32767,\n",
       " '_FillValue': -32767,\n",
       " 'scale_factor': 0.0016177143099659714,\n",
       " 'add_offset': 258.7720640676497}"
      ]
     },
     "execution_count": 121,
     "metadata": {},
     "output_type": "execute_result"
    }
   ],
   "source": [
    "m.encoding"
   ]
  },
  {
   "cell_type": "markdown",
   "id": "1fe4d049-94bf-4986-b775-f3baba3550a7",
   "metadata": {},
   "source": [
    "# What does the encoding look like?"
   ]
  },
  {
   "cell_type": "code",
   "execution_count": 74,
   "id": "40da804a-ebce-4a24-b7ad-597b6301cf70",
   "metadata": {},
   "outputs": [
    {
     "data": {
      "text/plain": [
       "['2t_era5_moda_sfc_20190101-20190131.nc',\n",
       " '2t_era5_moda_sfc_20190201-20190228.nc',\n",
       " '2t_era5_moda_sfc_20190301-20190331.nc',\n",
       " '2t_era5_moda_sfc_20190401-20190430.nc',\n",
       " '2t_era5_moda_sfc_20190501-20190531.nc',\n",
       " '2t_era5_moda_sfc_20190601-20190630.nc',\n",
       " '2t_era5_moda_sfc_20190701-20190731.nc',\n",
       " '2t_era5_moda_sfc_20190801-20190831.nc',\n",
       " '2t_era5_moda_sfc_20190901-20190930.nc',\n",
       " '2t_era5_moda_sfc_20191001-20191031.nc',\n",
       " '2t_era5_moda_sfc_20191101-20191130.nc',\n",
       " '2t_era5_moda_sfc_20191201-20191231.nc']"
      ]
     },
     "execution_count": 74,
     "metadata": {},
     "output_type": "execute_result"
    }
   ],
   "source": [
    "root_path = '/g/data/rt52/era5/single-levels/monthly-averaged/'\n",
    "import os\n",
    "files = sorted(os.listdir(root_path+'2t/2019/'))\n",
    "files"
   ]
  },
  {
   "cell_type": "code",
   "execution_count": 75,
   "id": "fae4e10b-9817-4dd5-a6ec-d75f5fa1a0c3",
   "metadata": {},
   "outputs": [],
   "source": [
    "files_to_open = [root_path+'2t'+'/'+str(2019)+'/'+files[i] for i in range(12)]"
   ]
  },
  {
   "cell_type": "code",
   "execution_count": 76,
   "id": "fbad5307-ea87-479d-b5cd-4f5f5bdba613",
   "metadata": {},
   "outputs": [],
   "source": [
    "offsets = []\n",
    "for f in [files_to_open[i] for i in range(12)]:\n",
    "    offsets.append(xr.open_dataset(f).t2m.encoding['add_offset'])"
   ]
  },
  {
   "cell_type": "code",
   "execution_count": 77,
   "id": "bb656290-9b58-41b8-a059-14aa68cba90c",
   "metadata": {},
   "outputs": [
    {
     "data": {
      "text/plain": [
       "[268.3445736472345,\n",
       " 269.4665145293084,\n",
       " 262.14209189787596,\n",
       " 258.78985195821474,\n",
       " 258.7720640676497,\n",
       " 259.18679874346765,\n",
       " 262.91154676032846,\n",
       " 260.22661482526166,\n",
       " 258.81987439954327,\n",
       " 263.0714212346324,\n",
       " 268.90530549252924,\n",
       " 268.77923463395865]"
      ]
     },
     "execution_count": 77,
     "metadata": {},
     "output_type": "execute_result"
    }
   ],
   "source": [
    "offsets"
   ]
  }
 ],
 "metadata": {
  "kernelspec": {
   "display_name": "Python 3",
   "language": "python",
   "name": "python3"
  },
  "language_info": {
   "codemirror_mode": {
    "name": "ipython",
    "version": 3
   },
   "file_extension": ".py",
   "mimetype": "text/x-python",
   "name": "python",
   "nbconvert_exporter": "python",
   "pygments_lexer": "ipython3",
   "version": "3.9.4"
  }
 },
 "nbformat": 4,
 "nbformat_minor": 5
}
